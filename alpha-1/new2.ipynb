{
 "cells": [
  {
   "cell_type": "code",
   "execution_count": 1,
   "metadata": {},
   "outputs": [
    {
     "name": "stdout",
     "output_type": "stream",
     "text": [
      "jui\n"
     ]
    }
   ],
   "source": [
    "print('jui')"
   ]
  },
  {
   "cell_type": "code",
   "execution_count": 2,
   "metadata": {},
   "outputs": [
    {
     "name": "stdout",
     "output_type": "stream",
     "text": [
      "your num is 4\n"
     ]
    }
   ],
   "source": [
    "a = int(input('Enter here : '))\n",
    "\n",
    "print(f'your num is {a}')"
   ]
  },
  {
   "cell_type": "code",
   "execution_count": 6,
   "metadata": {},
   "outputs": [
    {
     "name": "stdout",
     "output_type": "stream",
     "text": [
      "you enter friday\n"
     ]
    }
   ],
   "source": [
    "day = input('Enter day here : ')\n",
    "\n",
    "match (day):\n",
    "    case 'monday':\n",
    "        print('You enter monday')\n",
    "    case 'tuesday':\n",
    "        print('you enter tuesday')\n",
    "    case 'wednesday':\n",
    "        print('you enter wednesday')\n",
    "    case 'friday':\n",
    "        print('you enter friday')\n",
    "    case 'saturday' | 'sunday':\n",
    "        print('you enter holiday')\n",
    "    case _:\n",
    "        print('you enter wrong day')\n",
    "    \n"
   ]
  },
  {
   "cell_type": "code",
   "execution_count": null,
   "metadata": {},
   "outputs": [],
   "source": [
    "name = \"priya\""
   ]
  }
 ],
 "metadata": {
  "kernelspec": {
   "display_name": "base",
   "language": "python",
   "name": "python3"
  },
  "language_info": {
   "codemirror_mode": {
    "name": "ipython",
    "version": 3
   },
   "file_extension": ".py",
   "mimetype": "text/x-python",
   "name": "python",
   "nbconvert_exporter": "python",
   "pygments_lexer": "ipython3",
   "version": "3.10.10"
  },
  "orig_nbformat": 4
 },
 "nbformat": 4,
 "nbformat_minor": 2
}
